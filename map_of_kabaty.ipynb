{
 "cells": [
  {
   "cell_type": "code",
   "execution_count": null,
   "metadata": {},
   "outputs": [],
   "source": [
    "import folium\n",
    "import osmnx as ox\n",
    "\n",
    "# Definicja miejsca: Kabaty, Warszawa, Polska\n",
    "place_name = \"Kabaty, Warsaw, Poland\"\n",
    "\n",
    "# Pobranie grafu ulicznego dla Kabat\n",
    "G = ox.graph_from_place(place_name, network_type='drive')\n",
    "\n",
    "# Pobranie krawędzi (ulic) z grafu\n",
    "edges = ox.graph_to_gdfs(G, nodes=False, edges=True)\n",
    "\n",
    "# Tworzenie mapy Folium w centrum Kabat\n",
    "kabaty_coords = [52.135, 21.060]\n",
    "m = folium.Map(location=kabaty_coords, zoom_start=15)\n",
    "\n",
    "# Dodanie linii dla każdej ulicy z danych OSM\n",
    "for _, row in edges.iterrows():\n",
    "    folium.PolyLine(locations=[(lat, lon) for lon, lat in row['geometry'].coords],\n",
    "                    color=\"red\", weight=2.5).add_to(m)\n",
    "\n",
    "# Zapisanie mapy do pliku HTML\n",
    "m.save(\"kabaty_streets.html\")\n",
    "\n",
    "# Wyświetlenie mapy (jeśli w środowisku Jupyter)\n",
    "m"
   ]
  }
 ],
 "metadata": {
  "kernelspec": {
   "display_name": "Python 3",
   "language": "python",
   "name": "python3"
  },
  "language_info": {
   "codemirror_mode": {
    "name": "ipython",
    "version": 3
   },
   "file_extension": ".py",
   "mimetype": "text/x-python",
   "name": "python",
   "nbconvert_exporter": "python",
   "pygments_lexer": "ipython3",
   "version": "3.10.12"
  }
 },
 "nbformat": 4,
 "nbformat_minor": 2
}
